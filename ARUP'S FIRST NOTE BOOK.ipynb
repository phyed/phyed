{
 "cells": [
  {
   "cell_type": "code",
   "execution_count": 1,
   "id": "95fdcff0",
   "metadata": {},
   "outputs": [
    {
     "name": "stdout",
     "output_type": "stream",
     "text": [
      "Hello world!\n"
     ]
    }
   ],
   "source": [
    "print(\"Hello world!\")"
   ]
  },
  {
   "cell_type": "code",
   "execution_count": 2,
   "id": "d0d59fcb",
   "metadata": {},
   "outputs": [
    {
     "name": "stdout",
     "output_type": "stream",
     "text": [
      "Hello\n"
     ]
    }
   ],
   "source": [
    "print(\"Hello\")"
   ]
  },
  {
   "cell_type": "code",
   "execution_count": 3,
   "id": "2a6de56f",
   "metadata": {},
   "outputs": [
    {
     "name": "stdout",
     "output_type": "stream",
     "text": [
      "Hi all! How are you guyz?\n"
     ]
    }
   ],
   "source": [
    "print(\"Hi all! How are you guyz?\")"
   ]
  },
  {
   "cell_type": "code",
   "execution_count": 4,
   "id": "a2c6b05c",
   "metadata": {},
   "outputs": [
    {
     "name": "stdout",
     "output_type": "stream",
     "text": [
      "this time i am using single quote\n"
     ]
    }
   ],
   "source": [
    "print(\"this time i am using single quote\")"
   ]
  },
  {
   "cell_type": "code",
   "execution_count": 5,
   "id": "a412d5c7",
   "metadata": {},
   "outputs": [
    {
     "name": "stdout",
     "output_type": "stream",
     "text": [
      "hello friends\n"
     ]
    }
   ],
   "source": [
    "print('hello friends')"
   ]
  },
  {
   "cell_type": "code",
   "execution_count": 6,
   "id": "e86704c6",
   "metadata": {},
   "outputs": [],
   "source": [
    "hello=1+2"
   ]
  },
  {
   "cell_type": "code",
   "execution_count": 7,
   "id": "cb8e6e00",
   "metadata": {},
   "outputs": [
    {
     "name": "stdout",
     "output_type": "stream",
     "text": [
      "3\n"
     ]
    }
   ],
   "source": [
    "print(hello)"
   ]
  },
  {
   "cell_type": "code",
   "execution_count": 8,
   "id": "e508c9df",
   "metadata": {},
   "outputs": [],
   "source": [
    "x=45\n",
    "y=10\n",
    "z=x+y"
   ]
  },
  {
   "cell_type": "code",
   "execution_count": 9,
   "id": "f6071da9",
   "metadata": {},
   "outputs": [
    {
     "data": {
      "text/plain": [
       "55"
      ]
     },
     "execution_count": 9,
     "metadata": {},
     "output_type": "execute_result"
    }
   ],
   "source": [
    "z"
   ]
  },
  {
   "cell_type": "code",
   "execution_count": 10,
   "id": "d4e9592a",
   "metadata": {},
   "outputs": [
    {
     "name": "stdout",
     "output_type": "stream",
     "text": [
      "z= 55\n"
     ]
    }
   ],
   "source": [
    "print(\"z=\",z)"
   ]
  },
  {
   "cell_type": "code",
   "execution_count": 11,
   "id": "80064964",
   "metadata": {},
   "outputs": [
    {
     "name": "stdout",
     "output_type": "stream",
     "text": [
      "45\n"
     ]
    }
   ],
   "source": [
    "print(x)"
   ]
  },
  {
   "cell_type": "code",
   "execution_count": 12,
   "id": "f1a07cde",
   "metadata": {},
   "outputs": [],
   "source": [
    "l=x%y"
   ]
  },
  {
   "cell_type": "code",
   "execution_count": 13,
   "id": "dbf46387",
   "metadata": {},
   "outputs": [
    {
     "data": {
      "text/plain": [
       "5"
      ]
     },
     "execution_count": 13,
     "metadata": {},
     "output_type": "execute_result"
    }
   ],
   "source": [
    "l"
   ]
  },
  {
   "cell_type": "code",
   "execution_count": 14,
   "id": "1100e0bf",
   "metadata": {},
   "outputs": [
    {
     "name": "stdout",
     "output_type": "stream",
     "text": [
      "10\n"
     ]
    }
   ],
   "source": [
    "print(y)"
   ]
  },
  {
   "cell_type": "code",
   "execution_count": 15,
   "id": "1484179a",
   "metadata": {},
   "outputs": [
    {
     "name": "stdout",
     "output_type": "stream",
     "text": [
      "55\n"
     ]
    }
   ],
   "source": [
    "print(x+y)"
   ]
  },
  {
   "cell_type": "code",
   "execution_count": 16,
   "id": "e9c33360",
   "metadata": {},
   "outputs": [
    {
     "name": "stdout",
     "output_type": "stream",
     "text": [
      "c 0.5555555555555556\n"
     ]
    }
   ],
   "source": [
    "a=5\n",
    "b=9\n",
    "c=a/b\n",
    "print(\"c\",c)"
   ]
  },
  {
   "cell_type": "code",
   "execution_count": 17,
   "id": "ae308971",
   "metadata": {},
   "outputs": [],
   "source": [
    "a=50\n",
    "b=10\n",
    "z=a*b"
   ]
  },
  {
   "cell_type": "code",
   "execution_count": 18,
   "id": "ea824fcf",
   "metadata": {},
   "outputs": [
    {
     "name": "stdout",
     "output_type": "stream",
     "text": [
      "z 500\n"
     ]
    }
   ],
   "source": [
    "print(\"z\",z)"
   ]
  },
  {
   "cell_type": "code",
   "execution_count": 19,
   "id": "0e50f6a6",
   "metadata": {},
   "outputs": [],
   "source": [
    "s=a//b"
   ]
  },
  {
   "cell_type": "code",
   "execution_count": 20,
   "id": "2d649867",
   "metadata": {},
   "outputs": [
    {
     "data": {
      "text/plain": [
       "5"
      ]
     },
     "execution_count": 20,
     "metadata": {},
     "output_type": "execute_result"
    }
   ],
   "source": [
    "s"
   ]
  },
  {
   "cell_type": "code",
   "execution_count": 21,
   "id": "ca798afb",
   "metadata": {},
   "outputs": [],
   "source": [
    "w=34\n",
    "e=45\n",
    "z=w+e"
   ]
  },
  {
   "cell_type": "code",
   "execution_count": 22,
   "id": "425ff0c2",
   "metadata": {},
   "outputs": [
    {
     "name": "stdout",
     "output_type": "stream",
     "text": [
      "value of z    79\n"
     ]
    }
   ],
   "source": [
    "print(\"value of z   \",z)"
   ]
  },
  {
   "cell_type": "code",
   "execution_count": 23,
   "id": "e80ec0f6",
   "metadata": {},
   "outputs": [
    {
     "data": {
      "text/plain": [
       "'a5b'"
      ]
     },
     "execution_count": 23,
     "metadata": {},
     "output_type": "execute_result"
    }
   ],
   "source": [
    "'a'+str(5)+'b'"
   ]
  },
  {
   "cell_type": "code",
   "execution_count": 24,
   "id": "e27a89b7",
   "metadata": {},
   "outputs": [],
   "source": [
    "my_list=[1,3,'a']"
   ]
  },
  {
   "cell_type": "code",
   "execution_count": 25,
   "id": "8d847398",
   "metadata": {},
   "outputs": [
    {
     "name": "stdout",
     "output_type": "stream",
     "text": [
      "[1, 3, 'a']\n"
     ]
    }
   ],
   "source": [
    "print(my_list)"
   ]
  },
  {
   "cell_type": "code",
   "execution_count": 26,
   "id": "8160a729",
   "metadata": {},
   "outputs": [
    {
     "data": {
      "text/plain": [
       "list"
      ]
     },
     "execution_count": 26,
     "metadata": {},
     "output_type": "execute_result"
    }
   ],
   "source": [
    "type(my_list)"
   ]
  },
  {
   "cell_type": "code",
   "execution_count": 28,
   "id": "9c9bacec",
   "metadata": {},
   "outputs": [
    {
     "name": "stdout",
     "output_type": "stream",
     "text": [
      "the value of w and e are 34 & 45 respectively\n"
     ]
    }
   ],
   "source": [
    "print(\"the value of w and e are\",w,\"&\",e,\"respectively\")"
   ]
  },
  {
   "cell_type": "code",
   "execution_count": 29,
   "id": "8b500669",
   "metadata": {},
   "outputs": [
    {
     "name": "stdout",
     "output_type": "stream",
     "text": [
      "multiplication of x and y is 50\n"
     ]
    }
   ],
   "source": [
    "x=10\n",
    "y=5\n",
    "print(\"multiplication of x and y is\",x*y)"
   ]
  },
  {
   "cell_type": "code",
   "execution_count": 30,
   "id": "d9646dbf",
   "metadata": {},
   "outputs": [
    {
     "name": "stdout",
     "output_type": "stream",
     "text": [
      "c= 4368\n"
     ]
    }
   ],
   "source": [
    "a=56\n",
    "b=78\n",
    "c=a*b\n",
    "print(\"c=\",c)"
   ]
  },
  {
   "cell_type": "code",
   "execution_count": 31,
   "id": "12e87a99",
   "metadata": {},
   "outputs": [
    {
     "data": {
      "text/plain": [
       "(1, 3, 'a')"
      ]
     },
     "execution_count": 31,
     "metadata": {},
     "output_type": "execute_result"
    }
   ],
   "source": [
    "tuple(my_list)"
   ]
  },
  {
   "cell_type": "code",
   "execution_count": 32,
   "id": "4cd3a1ff",
   "metadata": {},
   "outputs": [
    {
     "ename": "TypeError",
     "evalue": "object of type 'int' has no len()",
     "output_type": "error",
     "traceback": [
      "\u001b[1;31m---------------------------------------------------------------------------\u001b[0m",
      "\u001b[1;31mTypeError\u001b[0m                                 Traceback (most recent call last)",
      "Input \u001b[1;32mIn [32]\u001b[0m, in \u001b[0;36m<cell line: 1>\u001b[1;34m()\u001b[0m\n\u001b[1;32m----> 1\u001b[0m \u001b[38;5;28;43mlen\u001b[39;49m\u001b[43m(\u001b[49m\u001b[38;5;241;43m1234\u001b[39;49m\u001b[43m)\u001b[49m\n",
      "\u001b[1;31mTypeError\u001b[0m: object of type 'int' has no len()"
     ]
    }
   ],
   "source": [
    "len(1234)"
   ]
  },
  {
   "cell_type": "code",
   "execution_count": 33,
   "id": "7ada458b",
   "metadata": {},
   "outputs": [
    {
     "data": {
      "text/plain": [
       "3"
      ]
     },
     "execution_count": 33,
     "metadata": {},
     "output_type": "execute_result"
    }
   ],
   "source": [
    "len(my_list)"
   ]
  },
  {
   "cell_type": "code",
   "execution_count": 34,
   "id": "a49a7f01",
   "metadata": {},
   "outputs": [
    {
     "data": {
      "text/plain": [
       "list"
      ]
     },
     "execution_count": 34,
     "metadata": {},
     "output_type": "execute_result"
    }
   ],
   "source": [
    "type(my_list)"
   ]
  },
  {
   "cell_type": "code",
   "execution_count": 35,
   "id": "3efd6aea",
   "metadata": {},
   "outputs": [
    {
     "data": {
      "text/plain": [
       "(1, 3, 'a')"
      ]
     },
     "execution_count": 35,
     "metadata": {},
     "output_type": "execute_result"
    }
   ],
   "source": [
    "tuple(my_list)"
   ]
  },
  {
   "cell_type": "code",
   "execution_count": 36,
   "id": "87176d0d",
   "metadata": {},
   "outputs": [],
   "source": [
    "arup=[1,7,9.0,'a']"
   ]
  },
  {
   "cell_type": "code",
   "execution_count": 37,
   "id": "b1beb0a7",
   "metadata": {},
   "outputs": [],
   "source": [
    "arup.append(4)"
   ]
  },
  {
   "cell_type": "code",
   "execution_count": 38,
   "id": "d73f5619",
   "metadata": {},
   "outputs": [
    {
     "data": {
      "text/plain": [
       "[1, 7, 9.0, 'a', 4]"
      ]
     },
     "execution_count": 38,
     "metadata": {},
     "output_type": "execute_result"
    }
   ],
   "source": [
    "arup"
   ]
  },
  {
   "cell_type": "code",
   "execution_count": 39,
   "id": "8e220802",
   "metadata": {},
   "outputs": [
    {
     "ename": "NameError",
     "evalue": "name 'num1' is not defined",
     "output_type": "error",
     "traceback": [
      "\u001b[1;31m---------------------------------------------------------------------------\u001b[0m",
      "\u001b[1;31mNameError\u001b[0m                                 Traceback (most recent call last)",
      "Input \u001b[1;32mIn [39]\u001b[0m, in \u001b[0;36m<cell line: 3>\u001b[1;34m()\u001b[0m\n\u001b[0;32m      1\u001b[0m \u001b[38;5;28;01mdef\u001b[39;00m \u001b[38;5;21madd_num\u001b[39m(\u001b[38;5;241m*\u001b[39margs):\n\u001b[0;32m      2\u001b[0m     \u001b[38;5;28;01mreturn\u001b[39;00m num1\u001b[38;5;241m+\u001b[39mnum2\n\u001b[1;32m----> 3\u001b[0m \u001b[43madd_num\u001b[49m\u001b[43m(\u001b[49m\u001b[38;5;241;43m12\u001b[39;49m\u001b[43m,\u001b[49m\u001b[38;5;241;43m34\u001b[39;49m\u001b[43m)\u001b[49m\n\u001b[0;32m      4\u001b[0m \u001b[38;5;28mprint\u001b[39m(\u001b[38;5;124m\"\u001b[39m\u001b[38;5;124mResult is \u001b[39m\u001b[38;5;124m\"\u001b[39m,add_num)\n",
      "Input \u001b[1;32mIn [39]\u001b[0m, in \u001b[0;36madd_num\u001b[1;34m(*args)\u001b[0m\n\u001b[0;32m      1\u001b[0m \u001b[38;5;28;01mdef\u001b[39;00m \u001b[38;5;21madd_num\u001b[39m(\u001b[38;5;241m*\u001b[39margs):\n\u001b[1;32m----> 2\u001b[0m     \u001b[38;5;28;01mreturn\u001b[39;00m \u001b[43mnum1\u001b[49m\u001b[38;5;241m+\u001b[39mnum2\n",
      "\u001b[1;31mNameError\u001b[0m: name 'num1' is not defined"
     ]
    }
   ],
   "source": [
    "def add_num(*args):\n",
    "    return num1+num2\n",
    "add_num(12,34)\n",
    "print(\"Result is \",add_num)"
   ]
  },
  {
   "cell_type": "code",
   "execution_count": 40,
   "id": "7061de4e",
   "metadata": {},
   "outputs": [
    {
     "data": {
      "text/plain": [
       "(12, 34, 12, 34)"
      ]
     },
     "execution_count": 40,
     "metadata": {},
     "output_type": "execute_result"
    }
   ],
   "source": [
    "def add_num(*args):\n",
    "    return args+args\n",
    "add_num(12,34)"
   ]
  },
  {
   "cell_type": "code",
   "execution_count": 41,
   "id": "f2903ec8",
   "metadata": {},
   "outputs": [
    {
     "data": {
      "text/plain": [
       "180"
      ]
     },
     "execution_count": 41,
     "metadata": {},
     "output_type": "execute_result"
    }
   ],
   "source": [
    "def arup(num1,num2):\n",
    "    return num1+num2\n",
    "arup(90,90)"
   ]
  },
  {
   "cell_type": "code",
   "execution_count": 48,
   "id": "06e48321",
   "metadata": {},
   "outputs": [
    {
     "ename": "TypeError",
     "evalue": "can only concatenate str (not \"int\") to str",
     "output_type": "error",
     "traceback": [
      "\u001b[1;31m---------------------------------------------------------------------------\u001b[0m",
      "\u001b[1;31mTypeError\u001b[0m                                 Traceback (most recent call last)",
      "Input \u001b[1;32mIn [48]\u001b[0m, in \u001b[0;36m<cell line: 4>\u001b[1;34m()\u001b[0m\n\u001b[0;32m      2\u001b[0m     z\u001b[38;5;241m=\u001b[39m\u001b[38;5;28mstr\u001b[39m(num1)\u001b[38;5;241m+\u001b[39mnum2\u001b[38;5;241m+\u001b[39mnum3    \n\u001b[0;32m      3\u001b[0m     \u001b[38;5;28;01mreturn\u001b[39;00m z\n\u001b[1;32m----> 4\u001b[0m \u001b[43marup\u001b[49m\u001b[43m(\u001b[49m\u001b[38;5;241;43m1\u001b[39;49m\u001b[43m,\u001b[49m\u001b[38;5;241;43m2\u001b[39;49m\u001b[43m,\u001b[49m\u001b[38;5;241;43m3\u001b[39;49m\u001b[43m)\u001b[49m\n",
      "Input \u001b[1;32mIn [48]\u001b[0m, in \u001b[0;36marup\u001b[1;34m(num1, num2, num3)\u001b[0m\n\u001b[0;32m      1\u001b[0m \u001b[38;5;28;01mdef\u001b[39;00m \u001b[38;5;21marup\u001b[39m(num1,num2,num3):\n\u001b[1;32m----> 2\u001b[0m     z\u001b[38;5;241m=\u001b[39m\u001b[38;5;28;43mstr\u001b[39;49m\u001b[43m(\u001b[49m\u001b[43mnum1\u001b[49m\u001b[43m)\u001b[49m\u001b[38;5;241;43m+\u001b[39;49m\u001b[43mnum2\u001b[49m\u001b[38;5;241m+\u001b[39mnum3    \n\u001b[0;32m      3\u001b[0m     \u001b[38;5;28;01mreturn\u001b[39;00m z\n",
      "\u001b[1;31mTypeError\u001b[0m: can only concatenate str (not \"int\") to str"
     ]
    }
   ],
   "source": [
    "def arup(num1,num2,num3):\n",
    "    z=str(num1)+num2+num3    \n",
    "    return z\n",
    "arup(1,2,3)"
   ]
  },
  {
   "cell_type": "code",
   "execution_count": 1,
   "id": "f7fe2bcc",
   "metadata": {},
   "outputs": [
    {
     "name": "stdout",
     "output_type": "stream",
     "text": [
      "The value of c =  18\n"
     ]
    }
   ],
   "source": [
    "a=9\n",
    "b=9\n",
    "c=a+b\n",
    "print('The value of c = ',c)"
   ]
  },
  {
   "cell_type": "code",
   "execution_count": 2,
   "id": "abc26b6b",
   "metadata": {},
   "outputs": [
    {
     "name": "stdout",
     "output_type": "stream",
     "text": [
      "a= 9 b= 9 c= 18\n"
     ]
    }
   ],
   "source": [
    "print('a=',a,'b=',b,'c=',c)"
   ]
  },
  {
   "cell_type": "code",
   "execution_count": 24,
   "id": "424be9f5",
   "metadata": {},
   "outputs": [
    {
     "name": "stdout",
     "output_type": "stream",
     "text": [
      "Alas Arup you have failed\n"
     ]
    }
   ],
   "source": [
    "def arup(x,y,z):\n",
    "    a=x+y+z\n",
    "    #return a\n",
    "    if a<50:\n",
    "        print('CONGRATS Arup!,you have scored 90')\n",
    "    else:\n",
    "        print('Alas Arup you have failed')\n",
    "arup(23,2,400)\n"
   ]
  },
  {
   "cell_type": "code",
   "execution_count": 15,
   "id": "41c6543f",
   "metadata": {},
   "outputs": [
    {
     "data": {
      "text/plain": [
       "179"
      ]
     },
     "execution_count": 15,
     "metadata": {},
     "output_type": "execute_result"
    }
   ],
   "source": [
    "arup(45,56,78)"
   ]
  },
  {
   "cell_type": "code",
   "execution_count": 29,
   "id": "46291aba",
   "metadata": {},
   "outputs": [
    {
     "name": "stdout",
     "output_type": "stream",
     "text": [
      "Alas Arup you have failed\n"
     ]
    }
   ],
   "source": [
    "def arup(a,b,c):\n",
    "    z=str(a)+str(b)+c\n",
    "    t=(z)\n",
    "    len(t)\n",
    "    #return z\n",
    "    if len(t)<3:\n",
    "        print('CONGRATS Arup!,you have scored 90')\n",
    "    else:\n",
    "        print('Alas Arup you have failed')\n",
    "arup(23,2,'a')"
   ]
  },
  {
   "cell_type": "code",
   "execution_count": 30,
   "id": "004ccbf6",
   "metadata": {},
   "outputs": [
    {
     "ename": "SyntaxError",
     "evalue": "invalid syntax (4108373834.py, line 1)",
     "output_type": "error",
     "traceback": [
      "\u001b[1;36m  Input \u001b[1;32mIn [30]\u001b[1;36m\u001b[0m\n\u001b[1;33m    1+2+3+....+100\u001b[0m\n\u001b[1;37m              ^\u001b[0m\n\u001b[1;31mSyntaxError\u001b[0m\u001b[1;31m:\u001b[0m invalid syntax\n"
     ]
    }
   ],
   "source": []
  },
  {
   "cell_type": "code",
   "execution_count": 32,
   "id": "69809370",
   "metadata": {},
   "outputs": [
    {
     "name": "stdout",
     "output_type": "stream",
     "text": [
      "5050\n"
     ]
    }
   ],
   "source": [
    "esa=0\n",
    "for arup in range(1,101):\n",
    "    esa+=arup\n",
    "print(esa)"
   ]
  },
  {
   "cell_type": "code",
   "execution_count": 4,
   "id": "d468b998",
   "metadata": {},
   "outputs": [],
   "source": [
    "x=6\n",
    "y=9\n",
    "z=(x+y)**2"
   ]
  },
  {
   "cell_type": "code",
   "execution_count": 5,
   "id": "b55fe366",
   "metadata": {},
   "outputs": [
    {
     "data": {
      "text/plain": [
       "225"
      ]
     },
     "execution_count": 5,
     "metadata": {},
     "output_type": "execute_result"
    }
   ],
   "source": [
    "z"
   ]
  },
  {
   "cell_type": "code",
   "execution_count": null,
   "id": "f54a52fb",
   "metadata": {},
   "outputs": [],
   "source": []
  }
 ],
 "metadata": {
  "kernelspec": {
   "display_name": "Python 3 (ipykernel)",
   "language": "python",
   "name": "python3"
  },
  "language_info": {
   "codemirror_mode": {
    "name": "ipython",
    "version": 3
   },
   "file_extension": ".py",
   "mimetype": "text/x-python",
   "name": "python",
   "nbconvert_exporter": "python",
   "pygments_lexer": "ipython3",
   "version": "3.9.12"
  }
 },
 "nbformat": 4,
 "nbformat_minor": 5
}
